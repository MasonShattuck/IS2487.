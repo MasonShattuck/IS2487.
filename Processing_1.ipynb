{
  "nbformat": 4,
  "nbformat_minor": 0,
  "metadata": {
    "colab": {
      "provenance": [],
      "authorship_tag": "ABX9TyMkhJo0Cmr4Ix0H9wjpgN9C",
      "include_colab_link": true
    },
    "kernelspec": {
      "name": "python3",
      "display_name": "Python 3"
    },
    "language_info": {
      "name": "python"
    }
  },
  "cells": [
    {
      "cell_type": "markdown",
      "metadata": {
        "id": "view-in-github",
        "colab_type": "text"
      },
      "source": [
        "<a href=\"https://colab.research.google.com/github/MasonShattuck/IS2487./blob/main/Processing_1.ipynb\" target=\"_parent\"><img src=\"https://colab.research.google.com/assets/colab-badge.svg\" alt=\"Open In Colab\"/></a>"
      ]
    },
    {
      "cell_type": "code",
      "execution_count": null,
      "metadata": {
        "colab": {
          "base_uri": "https://localhost:8080/"
        },
        "id": "FaBTRr24cwX_",
        "outputId": "6d8c4d0b-297b-4029-8148-a99e7936d423"
      },
      "outputs": [
        {
          "output_type": "stream",
          "name": "stdout",
          "text": [
            "Summary Report:\n",
            "\n",
            "Total Numbers: 16\n",
            "Maximum Value: 94\n",
            "Minimum Value: 19\n",
            "Sum of All Numbers: 859\n"
          ]
        }
      ],
      "source": [
        "#Problem 1\n",
        "Numbers = [23, 56, 19, 52, 87, 88, 50, 34, 22, 61, 52, 43, 25, 76, 77, 94]\n",
        "Total=len(Numbers)\n",
        "Max=max(Numbers)\n",
        "Min =min(Numbers)\n",
        "Sum= sum(Numbers)\n",
        "\n",
        "print(\"Summary Report:\\n\")\n",
        "print(f\"Total Numbers: {Total}\")\n",
        "print(f\"Maximum Value: {Max}\")\n",
        "print(f\"Minimum Value: {Min}\")\n",
        "print(f\"Sum of All Numbers: {Sum}\")"
      ]
    },
    {
      "cell_type": "code",
      "source": [
        "#problem 2\n",
        "def name_format(first_name, last_name):\n",
        "    full_name = f\"{first_name} {last_name}\"\n",
        "\n",
        "    print(full_name)\n",
        "\n",
        "    print(f\"{last_name}, {first_name}\")\n",
        "    print(full_name.upper())\n",
        "\n",
        "    #Print each character of the full name with a space in between\n",
        "    for char in full_name:\n",
        "        print(char, end=\" \")\n",
        "first_name = input(\"Enter your first name: \")\n",
        "last_name = input(\"Enter your last name: \")\n",
        "name_format(first_name, last_name)"
      ],
      "metadata": {
        "colab": {
          "base_uri": "https://localhost:8080/"
        },
        "id": "D-8CDsLuc9H4",
        "outputId": "33064391-7376-4046-b720-505444321c2c"
      },
      "execution_count": null,
      "outputs": [
        {
          "output_type": "stream",
          "name": "stdout",
          "text": [
            "Enter your first name: Mason\n",
            "Enter your last name: Shattuck\n",
            "Mason Shattuck\n",
            "Shattuck, Mason\n",
            "MASON SHATTUCK\n",
            "M a s o n   S h a t t u c k "
          ]
        }
      ]
    },
    {
      "cell_type": "code",
      "source": [
        "#Problem 3\n",
        "\n",
        "import random\n",
        "\n",
        "def roll_dice():\n",
        "    \"Returns a random integer between 1 and 6, simulating a dice roll.\"\n",
        "    return random.randint(1, 6)\n",
        "\n",
        "die = roll_dice()\n",
        "attempts = 3\n",
        "\n",
        "print(\"Guess the number on the rolled die (1 to 6). You have 3 tries.\")\n",
        "\n",
        "for attempt in range(attempts):\n",
        "    guess = int(input(\"Enter your guess: \"))\n",
        "\n",
        "    if guess == die:\n",
        "        print(\"Congratulations. You guessed it correctly.\")\n",
        "        break\n",
        "    else:\n",
        "        print(f\"Wrong guess. You have {attempts - attempt - 1} tries left.\")\n",
        "\n",
        "    if attempt == attempts - 1:\n",
        "        print(f\"You lost. The correct number was {die}.\")\n"
      ],
      "metadata": {
        "colab": {
          "base_uri": "https://localhost:8080/"
        },
        "id": "kcF56KRAha_C",
        "outputId": "8014fd18-341b-4c62-9757-5e7cea1c6022"
      },
      "execution_count": null,
      "outputs": [
        {
          "output_type": "stream",
          "name": "stdout",
          "text": [
            "Guess the number on the rolled die (1 to 6). You have 3 tries.\n",
            "Enter your guess: 1\n",
            "Wrong guess. You have 2 tries left.\n",
            "Enter your guess: 2\n",
            "Wrong guess. You have 1 tries left.\n",
            "Enter your guess: 3\n",
            "Congratulations! You guessed it right.\n"
          ]
        }
      ]
    },
    {
      "cell_type": "code",
      "source": [],
      "metadata": {
        "id": "EyxosppKjF9c"
      },
      "execution_count": null,
      "outputs": []
    }
  ]
}